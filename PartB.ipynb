{
  "cells": [
    {
      "cell_type": "code",
      "source": [
        "# --------------------------------------------\n",
        "# Create virtual display (Google Colab)\n",
        "# --------------------------------------------\n",
        "!pip install svgling\n",
        "!apt-get install -y xvfb ghostscript python3-tk # Install X Virtual Frame Buffer and other dependencies\n",
        "import os\n",
        "os.system('Xvfb :1 -screen 0 1600x1200x16  &')    # create virtual display with size 1600x1200 and 16 bit color. Color can be changed to 24 or 8\n",
        "os.environ['DISPLAY']=':1.0'    # tell X clients to use our virtual DISPLAY :1.0.\n",
        "%matplotlib inline\n"
      ],
      "metadata": {
        "id": "0h7ufhkPK-F_",
        "outputId": "7dc15ff6-8a42-4fcf-fb67-576abb563b9d",
        "colab": {
          "base_uri": "https://localhost:8080/"
        }
      },
      "id": "0h7ufhkPK-F_",
      "execution_count": 3,
      "outputs": [
        {
          "output_type": "stream",
          "name": "stdout",
          "text": [
            "Collecting svgling\n",
            "  Downloading svgling-0.5.0-py3-none-any.whl.metadata (7.4 kB)\n",
            "Collecting svgwrite (from svgling)\n",
            "  Downloading svgwrite-1.4.3-py3-none-any.whl.metadata (8.8 kB)\n",
            "Downloading svgling-0.5.0-py3-none-any.whl (31 kB)\n",
            "Downloading svgwrite-1.4.3-py3-none-any.whl (67 kB)\n",
            "\u001b[2K   \u001b[90m━━━━━━━━━━━━━━━━━━━━━━━━━━━━━━━━━━━━━━━━\u001b[0m \u001b[32m67.1/67.1 kB\u001b[0m \u001b[31m3.4 MB/s\u001b[0m eta \u001b[36m0:00:00\u001b[0m\n",
            "\u001b[?25hInstalling collected packages: svgwrite, svgling\n",
            "Successfully installed svgling-0.5.0 svgwrite-1.4.3\n",
            "Reading package lists... Done\n",
            "Building dependency tree... Done\n",
            "Reading state information... Done\n",
            "python3-tk is already the newest version (3.10.8-1~22.04).\n",
            "xvfb is already the newest version (2:21.1.4-2ubuntu1.7~22.04.15).\n",
            "The following additional packages will be installed:\n",
            "  fonts-droid-fallback fonts-noto-mono fonts-urw-base35 libgs9 libgs9-common\n",
            "  libidn12 libijs-0.35 libjbig2dec0 poppler-data\n",
            "Suggested packages:\n",
            "  fonts-noto fonts-freefont-otf | fonts-freefont-ttf fonts-texgyre\n",
            "  ghostscript-x poppler-utils fonts-japanese-mincho | fonts-ipafont-mincho\n",
            "  fonts-japanese-gothic | fonts-ipafont-gothic fonts-arphic-ukai\n",
            "  fonts-arphic-uming fonts-nanum\n",
            "The following NEW packages will be installed:\n",
            "  fonts-droid-fallback fonts-noto-mono fonts-urw-base35 ghostscript libgs9\n",
            "  libgs9-common libidn12 libijs-0.35 libjbig2dec0 poppler-data\n",
            "0 upgraded, 10 newly installed, 0 to remove and 35 not upgraded.\n",
            "Need to get 16.7 MB of archives.\n",
            "After this operation, 63.0 MB of additional disk space will be used.\n",
            "Get:1 http://archive.ubuntu.com/ubuntu jammy/main amd64 fonts-droid-fallback all 1:6.0.1r16-1.1build1 [1,805 kB]\n",
            "Get:2 http://archive.ubuntu.com/ubuntu jammy/main amd64 poppler-data all 0.4.11-1 [2,171 kB]\n",
            "Get:3 http://archive.ubuntu.com/ubuntu jammy/main amd64 fonts-noto-mono all 20201225-1build1 [397 kB]\n",
            "Get:4 http://archive.ubuntu.com/ubuntu jammy/main amd64 fonts-urw-base35 all 20200910-1 [6,367 kB]\n",
            "Get:5 http://archive.ubuntu.com/ubuntu jammy-updates/main amd64 libgs9-common all 9.55.0~dfsg1-0ubuntu5.12 [753 kB]\n",
            "Get:6 http://archive.ubuntu.com/ubuntu jammy-updates/main amd64 libidn12 amd64 1.38-4ubuntu1 [60.0 kB]\n",
            "Get:7 http://archive.ubuntu.com/ubuntu jammy/main amd64 libijs-0.35 amd64 0.35-15build2 [16.5 kB]\n",
            "Get:8 http://archive.ubuntu.com/ubuntu jammy/main amd64 libjbig2dec0 amd64 0.19-3build2 [64.7 kB]\n",
            "Get:9 http://archive.ubuntu.com/ubuntu jammy-updates/main amd64 libgs9 amd64 9.55.0~dfsg1-0ubuntu5.12 [5,031 kB]\n",
            "Get:10 http://archive.ubuntu.com/ubuntu jammy-updates/main amd64 ghostscript amd64 9.55.0~dfsg1-0ubuntu5.12 [49.4 kB]\n",
            "Fetched 16.7 MB in 2s (9,537 kB/s)\n",
            "Selecting previously unselected package fonts-droid-fallback.\n",
            "(Reading database ... 126380 files and directories currently installed.)\n",
            "Preparing to unpack .../0-fonts-droid-fallback_1%3a6.0.1r16-1.1build1_all.deb ...\n",
            "Unpacking fonts-droid-fallback (1:6.0.1r16-1.1build1) ...\n",
            "Selecting previously unselected package poppler-data.\n",
            "Preparing to unpack .../1-poppler-data_0.4.11-1_all.deb ...\n",
            "Unpacking poppler-data (0.4.11-1) ...\n",
            "Selecting previously unselected package fonts-noto-mono.\n",
            "Preparing to unpack .../2-fonts-noto-mono_20201225-1build1_all.deb ...\n",
            "Unpacking fonts-noto-mono (20201225-1build1) ...\n",
            "Selecting previously unselected package fonts-urw-base35.\n",
            "Preparing to unpack .../3-fonts-urw-base35_20200910-1_all.deb ...\n",
            "Unpacking fonts-urw-base35 (20200910-1) ...\n",
            "Selecting previously unselected package libgs9-common.\n",
            "Preparing to unpack .../4-libgs9-common_9.55.0~dfsg1-0ubuntu5.12_all.deb ...\n",
            "Unpacking libgs9-common (9.55.0~dfsg1-0ubuntu5.12) ...\n",
            "Selecting previously unselected package libidn12:amd64.\n",
            "Preparing to unpack .../5-libidn12_1.38-4ubuntu1_amd64.deb ...\n",
            "Unpacking libidn12:amd64 (1.38-4ubuntu1) ...\n",
            "Selecting previously unselected package libijs-0.35:amd64.\n",
            "Preparing to unpack .../6-libijs-0.35_0.35-15build2_amd64.deb ...\n",
            "Unpacking libijs-0.35:amd64 (0.35-15build2) ...\n",
            "Selecting previously unselected package libjbig2dec0:amd64.\n",
            "Preparing to unpack .../7-libjbig2dec0_0.19-3build2_amd64.deb ...\n",
            "Unpacking libjbig2dec0:amd64 (0.19-3build2) ...\n",
            "Selecting previously unselected package libgs9:amd64.\n",
            "Preparing to unpack .../8-libgs9_9.55.0~dfsg1-0ubuntu5.12_amd64.deb ...\n",
            "Unpacking libgs9:amd64 (9.55.0~dfsg1-0ubuntu5.12) ...\n",
            "Selecting previously unselected package ghostscript.\n",
            "Preparing to unpack .../9-ghostscript_9.55.0~dfsg1-0ubuntu5.12_amd64.deb ...\n",
            "Unpacking ghostscript (9.55.0~dfsg1-0ubuntu5.12) ...\n",
            "Setting up fonts-noto-mono (20201225-1build1) ...\n",
            "Setting up libijs-0.35:amd64 (0.35-15build2) ...\n",
            "Setting up fonts-urw-base35 (20200910-1) ...\n",
            "Setting up poppler-data (0.4.11-1) ...\n",
            "Setting up libjbig2dec0:amd64 (0.19-3build2) ...\n",
            "Setting up libidn12:amd64 (1.38-4ubuntu1) ...\n",
            "Setting up fonts-droid-fallback (1:6.0.1r16-1.1build1) ...\n",
            "Setting up libgs9-common (9.55.0~dfsg1-0ubuntu5.12) ...\n",
            "Setting up libgs9:amd64 (9.55.0~dfsg1-0ubuntu5.12) ...\n",
            "Setting up ghostscript (9.55.0~dfsg1-0ubuntu5.12) ...\n",
            "Processing triggers for fontconfig (2.13.1-4.2ubuntu5) ...\n",
            "Processing triggers for libc-bin (2.35-0ubuntu3.8) ...\n",
            "/sbin/ldconfig.real: /usr/local/lib/libtbbbind_2_5.so.3 is not a symbolic link\n",
            "\n",
            "/sbin/ldconfig.real: /usr/local/lib/libtcm_debug.so.1 is not a symbolic link\n",
            "\n",
            "/sbin/ldconfig.real: /usr/local/lib/libumf.so.0 is not a symbolic link\n",
            "\n",
            "/sbin/ldconfig.real: /usr/local/lib/libhwloc.so.15 is not a symbolic link\n",
            "\n",
            "/sbin/ldconfig.real: /usr/local/lib/libur_adapter_opencl.so.0 is not a symbolic link\n",
            "\n",
            "/sbin/ldconfig.real: /usr/local/lib/libtbbbind_2_0.so.3 is not a symbolic link\n",
            "\n",
            "/sbin/ldconfig.real: /usr/local/lib/libtbbmalloc.so.2 is not a symbolic link\n",
            "\n",
            "/sbin/ldconfig.real: /usr/local/lib/libtbbmalloc_proxy.so.2 is not a symbolic link\n",
            "\n",
            "/sbin/ldconfig.real: /usr/local/lib/libur_adapter_level_zero_v2.so.0 is not a symbolic link\n",
            "\n",
            "/sbin/ldconfig.real: /usr/local/lib/libtcm.so.1 is not a symbolic link\n",
            "\n",
            "/sbin/ldconfig.real: /usr/local/lib/libur_adapter_level_zero.so.0 is not a symbolic link\n",
            "\n",
            "/sbin/ldconfig.real: /usr/local/lib/libtbb.so.12 is not a symbolic link\n",
            "\n",
            "/sbin/ldconfig.real: /usr/local/lib/libur_loader.so.0 is not a symbolic link\n",
            "\n",
            "/sbin/ldconfig.real: /usr/local/lib/libtbbbind.so.3 is not a symbolic link\n",
            "\n",
            "Processing triggers for man-db (2.10.2-1) ...\n"
          ]
        }
      ]
    },
    {
      "cell_type": "code",
      "execution_count": 12,
      "id": "7f4cabc8",
      "metadata": {
        "id": "7f4cabc8",
        "outputId": "3b7b55d5-a74e-4382-8219-6a74eaac61a1",
        "colab": {
          "base_uri": "https://localhost:8080/"
        }
      },
      "outputs": [
        {
          "output_type": "stream",
          "name": "stdout",
          "text": [
            "Q1: Preprocessing and Exploratory Data Analysis - Shu Hui\n"
          ]
        },
        {
          "output_type": "stream",
          "name": "stderr",
          "text": [
            "[nltk_data] Downloading package punkt to /root/nltk_data...\n",
            "[nltk_data]   Package punkt is already up-to-date!\n",
            "[nltk_data] Downloading package stopwords to /root/nltk_data...\n",
            "[nltk_data]   Package stopwords is already up-to-date!\n",
            "[nltk_data] Downloading package averaged_perceptron_tagger to\n",
            "[nltk_data]     /root/nltk_data...\n",
            "[nltk_data]   Unzipping taggers/averaged_perceptron_tagger.zip.\n",
            "[nltk_data] Downloading package punkt_tab to /root/nltk_data...\n",
            "[nltk_data]   Unzipping tokenizers/punkt_tab.zip.\n",
            "[nltk_data] Downloading package averaged_perceptron_tagger_eng to\n",
            "[nltk_data]     /root/nltk_data...\n",
            "[nltk_data]   Unzipping taggers/averaged_perceptron_tagger_eng.zip.\n"
          ]
        },
        {
          "output_type": "execute_result",
          "data": {
            "text/plain": [
              "True"
            ]
          },
          "metadata": {},
          "execution_count": 12
        }
      ],
      "source": [
        "# -----------------------------\n",
        "# Q1: Preprocessing and Exploratory Data Analysis\n",
        "# -----------------------------\n",
        "# Shu Hui\n",
        "print(\"Q1: Preprocessing and Exploratory Data Analysis - Shu Hui\")\n",
        "\n",
        "import pandas as pd\n",
        "import matplotlib.pyplot as plt\n",
        "import seaborn as sns\n",
        "import time\n",
        "from pathlib import Path\n",
        "import re\n",
        "from nltk.corpus import stopwords\n",
        "from nltk.tokenize import word_tokenize\n",
        "from nltk.stem import PorterStemmer\n",
        "from collections import Counter\n",
        "\n",
        "# Download required resources\n",
        "import nltk\n",
        "nltk.download('punkt')\n",
        "nltk.download('stopwords')\n",
        "nltk.download('averaged_perceptron_tagger')\n",
        "nltk.download('punkt_tab')\n",
        "nltk.download('averaged_perceptron_tagger_eng')"
      ]
    },
    {
      "cell_type": "code",
      "source": [
        "# -----------------------------\n",
        "# Import Repo from github\n",
        "# -----------------------------\n",
        "!git clone https://github.com/MiyokoPang/TXSA.git"
      ],
      "metadata": {
        "id": "gYrMeHntLI-1",
        "outputId": "e29f9998-8a39-4e2a-997e-3a5745b3c72a",
        "colab": {
          "base_uri": "https://localhost:8080/"
        }
      },
      "id": "gYrMeHntLI-1",
      "execution_count": 4,
      "outputs": [
        {
          "output_type": "stream",
          "name": "stdout",
          "text": [
            "Cloning into 'TXSA'...\n",
            "remote: Enumerating objects: 79, done.\u001b[K\n",
            "remote: Counting objects: 100% (79/79), done.\u001b[K\n",
            "remote: Compressing objects: 100% (60/60), done.\u001b[K\n",
            "remote: Total 79 (delta 41), reused 37 (delta 16), pack-reused 0 (from 0)\u001b[K\n",
            "Receiving objects: 100% (79/79), 502.90 KiB | 4.53 MiB/s, done.\n",
            "Resolving deltas: 100% (41/41), done.\n"
          ]
        }
      ]
    },
    {
      "cell_type": "code",
      "execution_count": 13,
      "id": "6080c2b7",
      "metadata": {
        "id": "6080c2b7",
        "outputId": "1a4775ae-ca09-498d-cf87-9f5513d84952",
        "colab": {
          "base_uri": "https://localhost:8080/"
        }
      },
      "outputs": [
        {
          "output_type": "stream",
          "name": "stdout",
          "text": [
            "Loading dataset\n",
            "Cleaning text...\n",
            "Preprocessing text (stopword removal + stemming)\n"
          ]
        }
      ],
      "source": [
        "# Load dataset\n",
        "print(\"Loading dataset\")\n",
        "with open(\"TXSA/sentiment_tweets3.csv\") as file:\n",
        "    df = pd.read_csv(file)\n",
        "df.columns = ['Index', 'message', 'label']\n",
        "\n",
        "# Step 1: Clean raw text\n",
        "def clean_text(text):\n",
        "    text = re.sub(r\"http\\S+|www\\S+|https\\S+\", '', text)\n",
        "    text = re.sub(r'\\@\\w+|\\#', '', text)\n",
        "    text = re.sub(r'[^\\w\\s]', '', text)\n",
        "    return text.lower()\n",
        "\n",
        "print(\"Cleaning text...\")\n",
        "df['clean_message'] = df['message'].astype(str).apply(clean_text)\n",
        "\n",
        "# Step 2: Stopwords removal and stemming\n",
        "stop_words = set(stopwords.words('english'))\n",
        "stemmer = PorterStemmer()\n",
        "\n",
        "def preprocess_text(text):\n",
        "    tokens = word_tokenize(text)\n",
        "    filtered = [stemmer.stem(word) for word in tokens if word not in stop_words]\n",
        "    return ' '.join(filtered)\n",
        "\n",
        "print(\"Preprocessing text (stopword removal + stemming)\")\n",
        "df['processed_message'] = df['clean_message'].apply(preprocess_text)\n"
      ]
    },
    {
      "cell_type": "code",
      "execution_count": 14,
      "id": "094d92b1",
      "metadata": {
        "id": "094d92b1",
        "outputId": "7cef29df-38ae-4bce-b0ec-f7dc7f29198e",
        "colab": {
          "base_uri": "https://localhost:8080/",
          "height": 590
        }
      },
      "outputs": [
        {
          "output_type": "stream",
          "name": "stdout",
          "text": [
            "\n",
            "Q1.1: Class Distribution\n",
            "0 (Not Depressed): 8000 tweets\n",
            "1 (Depressed): 2314 tweets\n"
          ]
        },
        {
          "output_type": "display_data",
          "data": {
            "text/plain": [
              "<Figure size 600x600 with 1 Axes>"
            ],
            "image/png": "[encoded data removed]"
          },
          "metadata": {}
        }
      ],
      "source": [
        "# 1. Class Distribution\n",
        "print(\"\\nQ1.1: Class Distribution\")\n",
        "label_counts = df['label'].value_counts()\n",
        "for label, count in label_counts.items():\n",
        "    label_name = \"Not Depressed\" if label == 0 else \"Depressed\"\n",
        "    print(f\"{label} ({label_name}): {count} tweets\")\n",
        "\n",
        "# Pie chart\n",
        "plt.figure(figsize=(6,6))\n",
        "plt.pie(label_counts, labels=['Not Depressed (0)', 'Depressed (1)'], autopct='%1.1f%%', startangle=90)\n",
        "plt.title(\"Tweet Label Distribution\")\n",
        "plt.axis('equal')\n",
        "plt.show()"
      ]
    },
    {
      "cell_type": "code",
      "execution_count": 15,
      "id": "793fe690",
      "metadata": {
        "id": "793fe690",
        "outputId": "a5a63714-ce17-4cae-8c3e-50be0e5c8822",
        "colab": {
          "base_uri": "https://localhost:8080/",
          "height": 479
        }
      },
      "outputs": [
        {
          "output_type": "stream",
          "name": "stdout",
          "text": [
            "\n",
            "Q1.2: Average Tweet Length by Label\n",
            "Not Depressed (0): 73.56 characters\n",
            "Depressed (1): 158.50 characters\n"
          ]
        },
        {
          "output_type": "display_data",
          "data": {
            "text/plain": [
              "<Figure size 600x400 with 1 Axes>"
            ],
            "image/png": "[encoded data removed]"
          },
          "metadata": {}
        }
      ],
      "source": [
        "# 2. Average Tweet Length\n",
        "print(\"\\nQ1.2: Average Tweet Length by Label\")\n",
        "df['tweet_length'] = df['message'].astype(str).apply(len)\n",
        "avg_lengths = df.groupby('label')['tweet_length'].mean()\n",
        "print(f\"Not Depressed (0): {avg_lengths[0]:.2f} characters\")\n",
        "print(f\"Depressed (1): {avg_lengths[1]:.2f} characters\")\n",
        "\n",
        "# Bar chart\n",
        "plt.figure(figsize=(6,4))\n",
        "sns.barplot(x=avg_lengths.index, y=avg_lengths.values)\n",
        "plt.xticks([0, 1], ['Not Depressed', 'Depressed'])\n",
        "plt.ylabel(\"Average Tweet Length\")\n",
        "plt.title(\"Average Tweet Length by Label\")\n",
        "plt.show()"
      ]
    },
    {
      "cell_type": "code",
      "execution_count": 16,
      "id": "e09df8c7",
      "metadata": {
        "id": "e09df8c7",
        "outputId": "7bc75c70-b8f9-4f75-ae26-58ae5e50d3dc",
        "colab": {
          "base_uri": "https://localhost:8080/",
          "height": 1000
        }
      },
      "outputs": [
        {
          "output_type": "stream",
          "name": "stdout",
          "text": [
            "\n",
            "Q1.3: Top 20 Most Frequent Words\n",
            "depress: 2337\n",
            "im: 1039\n",
            "go: 741\n",
            "good: 698\n",
            "love: 696\n",
            "day: 674\n",
            "get: 659\n",
            "like: 598\n",
            "thank: 559\n",
            "time: 460\n",
            "know: 443\n",
            "â: 421\n",
            "dont: 408\n",
            "lol: 406\n",
            "one: 384\n",
            "got: 365\n",
            "today: 364\n",
            "anxieti: 361\n",
            "see: 358\n",
            "u: 357\n"
          ]
        },
        {
          "output_type": "display_data",
          "data": {
            "text/plain": [
              "<Figure size 1000x600 with 1 Axes>"
            ],
            "image/png": "[encoded data removed]"
          },
          "metadata": {}
        },
        {
          "output_type": "stream",
          "name": "stdout",
          "text": [
            "-------------------\n"
          ]
        }
      ],
      "source": [
        "# 3. Top 20 Frequent Words\n",
        "print(\"\\nQ1.3: Top 20 Most Frequent Words\")\n",
        "all_words = ' '.join(df['processed_message']).split()\n",
        "common_words = Counter(all_words).most_common(20)\n",
        "\n",
        "for word, count in common_words:\n",
        "    print(f\"{word}: {count}\")\n",
        "\n",
        "# Plot\n",
        "words = [word for word, count in common_words]\n",
        "counts = [count for word, count in common_words]\n",
        "\n",
        "plt.figure(figsize=(10, 6))\n",
        "plt.barh(words[::-1], counts[::-1], color='skyblue')\n",
        "plt.xlabel('Frequency')\n",
        "plt.title('Top 20 Most Frequent Words in Tweets')\n",
        "plt.tight_layout()\n",
        "plt.show()\n",
        "\n",
        "print(\"-------------------\")"
      ]
    },
    {
      "cell_type": "code",
      "execution_count": 17,
      "id": "3a5150be",
      "metadata": {
        "id": "3a5150be",
        "outputId": "1dda4af1-7fbf-47fa-b3c8-507b4a80f241",
        "colab": {
          "base_uri": "https://localhost:8080/"
        }
      },
      "outputs": [
        {
          "output_type": "stream",
          "name": "stdout",
          "text": [
            "Individual Sections: Q2: Supervised Text Classification Model + Q3: Hyper Parameter Selection\n"
          ]
        }
      ],
      "source": [
        "# -----------------------------\n",
        "# Individual Section: Q2: Supervised Text Classification Model + Q3: Hyper Parameter Selection\n",
        "# -----------------------------\n",
        "\n",
        "print(\"Individual Sections: Q2: Supervised Text Classification Model + Q3: Hyper Parameter Selection\")"
      ]
    },
    {
      "cell_type": "code",
      "execution_count": 18,
      "id": "c29130bd",
      "metadata": {
        "id": "c29130bd",
        "outputId": "6ce65d8e-0f40-424f-a238-bb3cbb79907d",
        "colab": {
          "base_uri": "https://localhost:8080/"
        }
      },
      "outputs": [
        {
          "output_type": "stream",
          "name": "stdout",
          "text": [
            "Miyoko Pang (TP067553)\n",
            "\n",
            "Q2: Supervised Text Classification Model: Logistic Regression\n",
            "Data split. Time taken: 10111.09 µs\n",
            "TF-IDF vectorization complete. Time taken: 135089.64 µs\n",
            "Model trained. Time taken: 68284.75 µs\n",
            "Prediction complete. Time taken: 655.17 µs\n",
            "\n",
            "Confusion Matrix:\n",
            "[[1600    0]\n",
            " [  33  430]]\n",
            "\n",
            "Classification Report:\n",
            "              precision    recall  f1-score   support\n",
            "\n",
            "           0       0.98      1.00      0.99      1600\n",
            "           1       1.00      0.93      0.96       463\n",
            "\n",
            "    accuracy                           0.98      2063\n",
            "   macro avg       0.99      0.96      0.98      2063\n",
            "weighted avg       0.98      0.98      0.98      2063\n",
            "\n"
          ]
        }
      ],
      "source": [
        "# Miyoko Pang: Logistic Regression\n",
        "print(\"Miyoko Pang (TP067553)\")\n",
        "print(\"\\nQ2: Supervised Text Classification Model: Logistic Regression\")\n",
        "\n",
        "from sklearn.model_selection import train_test_split\n",
        "from sklearn.feature_extraction.text import TfidfVectorizer\n",
        "from sklearn.linear_model import LogisticRegression\n",
        "from sklearn.metrics import classification_report, confusion_matrix\n",
        "\n",
        "X = df['processed_message']\n",
        "y = df['label']\n",
        "\n",
        "# Train-test split\n",
        "start_time = time.time()\n",
        "X_train, X_test, y_train, y_test = train_test_split(\n",
        "    X, y, test_size=0.2, random_state=42, stratify=y\n",
        ")\n",
        "end_time = time.time()\n",
        "print(f\"Data split. Time taken: {(end_time - start_time) * 1000000:.2f} µs\")\n",
        "\n",
        "# TF-IDF vectorization\n",
        "start_time = time.time()\n",
        "vectorizer = TfidfVectorizer( max_features=5000)\n",
        "X_train_vec = vectorizer.fit_transform(X_train)\n",
        "X_test_vec = vectorizer.transform(X_test)\n",
        "end_time = time.time()\n",
        "print(f\"TF-IDF vectorization complete. Time taken: {(end_time - start_time) * 1000000:.2f} µs\")\n",
        "\n",
        "# Train logistic regression\n",
        "start_time = time.time()\n",
        "model = LogisticRegression(max_iter=1000)\n",
        "model.fit(X_train_vec, y_train)\n",
        "end_time = time.time()\n",
        "print(f\"Model trained. Time taken: {(end_time - start_time) * 1000000:.2f} µs\")\n",
        "\n",
        "# Predict\n",
        "start_time = time.time()\n",
        "y_pred = model.predict(X_test_vec)\n",
        "end_time = time.time()\n",
        "print(f\"Prediction complete. Time taken: {(end_time - start_time) * 1000000:.2f} µs\")\n",
        "\n",
        "# Results\n",
        "print(\"\\nConfusion Matrix:\")\n",
        "print(confusion_matrix(y_test, y_pred))\n",
        "\n",
        "print(\"\\nClassification Report:\")\n",
        "print(classification_report(y_test, y_pred))"
      ]
    },
    {
      "cell_type": "code",
      "execution_count": 19,
      "id": "e409b10e",
      "metadata": {
        "id": "e409b10e",
        "outputId": "0cd30231-2534-496f-9b84-d6b00e7670db",
        "colab": {
          "base_uri": "https://localhost:8080/"
        }
      },
      "outputs": [
        {
          "output_type": "stream",
          "name": "stdout",
          "text": [
            "\n",
            "Q3: Hyper Parameter Selection - Logistic Regression\n",
            "Fitting 5 folds for each of 16 candidates, totalling 80 fits\n",
            "Best Params: {'C': 10, 'max_iter': 100, 'penalty': 'l2', 'solver': 'liblinear'}\n",
            "Grid Search Time: 2579.60 ms\n",
            "-------------------\n"
          ]
        }
      ],
      "source": [
        "print(\"\\nQ3: Hyper Parameter Selection - Logistic Regression\")\n",
        "\n",
        "from sklearn.model_selection import GridSearchCV\n",
        "\n",
        "params = {\n",
        "    'C': [0.01, 0.1, 1, 10],\n",
        "    'penalty': ['l2'],\n",
        "    'solver': ['liblinear', 'saga'],\n",
        "    'max_iter': [100, 200]\n",
        "}\n",
        "\n",
        "start_time = time.time()\n",
        "grid = GridSearchCV(LogisticRegression(), params, cv=5, scoring='f1', verbose=1)\n",
        "grid.fit(X_train_vec, y_train)\n",
        "end_time = time.time()\n",
        "\n",
        "print(\"Best Params:\", grid.best_params_)\n",
        "print(f\"Grid Search Time: {(end_time - start_time) * 1000:.2f} ms\")\n",
        "\n",
        "print(\"-------------------\")"
      ]
    },
    {
      "cell_type": "code",
      "execution_count": null,
      "id": "2dc2b1ba",
      "metadata": {
        "id": "2dc2b1ba"
      },
      "outputs": [],
      "source": [
        "# Shu Hui: KNN\n",
        "print(\"Shu Hui\")\n",
        "print(\"\\nQ2: Supervised Text Classification Model: KNN\")"
      ]
    },
    {
      "cell_type": "code",
      "execution_count": null,
      "id": "3732bf31",
      "metadata": {
        "id": "3732bf31"
      },
      "outputs": [],
      "source": [
        "print(\"\\nQ3: Hyper Parameter Selection - KNN\")\n",
        "\n",
        "print(\"-------------------\")"
      ]
    },
    {
      "cell_type": "code",
      "execution_count": null,
      "id": "cdb6925b",
      "metadata": {
        "id": "cdb6925b"
      },
      "outputs": [],
      "source": [
        "# Yi Jing\n",
        "print(\"Yi Jing\")\n",
        "print(\"\\nQ2: Supervised Text Classification Model: ?\")"
      ]
    },
    {
      "cell_type": "code",
      "execution_count": null,
      "id": "3bad9130",
      "metadata": {
        "id": "3bad9130"
      },
      "outputs": [],
      "source": [
        "print(\"\\nQ3: Hyper Parameter Selection - ?\")"
      ]
    }
  ],
  "metadata": {
    "language_info": {
      "name": "python"
    },
    "colab": {
      "provenance": []
    },
    "kernelspec": {
      "name": "python3",
      "display_name": "Python 3"
    }
  },
  "nbformat": 4,
  "nbformat_minor": 5
}